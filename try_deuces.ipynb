{
 "cells": [
  {
   "cell_type": "code",
   "execution_count": 35,
   "metadata": {},
   "outputs": [
    {
     "name": "stdout",
     "output_type": "stream",
     "text": [
      " [2♥],[2♠],[J♣],[Q♠],[T♥] \n",
      "\n",
      "Dealing a new hand...\n",
      "The board:\n",
      " [T♠],[5♦],[4♠],[A♦],[5♠] \n",
      "Player 1's cards:\n",
      " [K♠],[3♦] \n",
      "Player 2's cards:\n",
      " [T♣],[3♣] \n",
      "Player 1 hand rank = 5308 Pair\n",
      "Player 2 hand rank = 2974 Two Pair\n",
      "========== FLOP ==========\n",
      "Player 1 hand = High Card, percentage rank among all hands = 0.07075850978289999\n",
      "Player 2 hand = Pair, percentage rank among all hands = 0.40739748056821223\n",
      "Player 2 hand is currently winning.\n",
      "\n",
      "========== TURN ==========\n",
      "Player 1 hand = High Card, percentage rank among all hands = 0.15733047440364512\n",
      "Player 2 hand = Pair, percentage rank among all hands = 0.42977753953363707\n",
      "Player 2 hand is currently winning.\n",
      "\n",
      "========== RIVER ==========\n",
      "Player 1 hand = Pair, percentage rank among all hands = 0.2886625569552399\n",
      "Player 2 hand = Two Pair, percentage rank among all hands = 0.6014473331546502\n",
      "\n",
      "========== HAND OVER ==========\n",
      "Player 2 is the winner with a Two Pair\n",
      "\n"
     ]
    }
   ],
   "source": [
    "from deuces.deuces import Card, Evaluator, Deck\n",
    "\n",
    "# create a card\n",
    "card = Card.new('Qh')\n",
    "\n",
    "# create a board and hole cards\n",
    "board = [\n",
    "    Card.new('2h'),\n",
    "    Card.new('2s'),\n",
    "    Card.new('Jc')\n",
    "]\n",
    "hand = [\n",
    "    Card.new('Qs'),\n",
    "    Card.new('Th')\n",
    "]\n",
    "\n",
    "# pretty print cards to console\n",
    "Card.print_pretty_cards(board + hand)\n",
    "\n",
    "# create an evaluator\n",
    "evaluator = Evaluator()\n",
    "\n",
    "# and rank your hand\n",
    "rank = evaluator.evaluate(board, hand)\n",
    "print()\n",
    "# or for random cards or games, create a deck\n",
    "print(\"Dealing a new hand...\")\n",
    "deck = Deck()\n",
    "board = deck.draw(5)\n",
    "player1_hand = deck.draw(2)\n",
    "player2_hand = deck.draw(2)\n",
    "\n",
    "print(\"The board:\")\n",
    "Card.print_pretty_cards(board)\n",
    "\n",
    "print(\"Player 1's cards:\")\n",
    "Card.print_pretty_cards(player1_hand)\n",
    "\n",
    "print(\"Player 2's cards:\")\n",
    "Card.print_pretty_cards(player2_hand)\n",
    "\n",
    "p1_score = evaluator.evaluate(board, player1_hand)\n",
    "p2_score = evaluator.evaluate(board, player2_hand)\n",
    "\n",
    "# bin the scores into classes\n",
    "p1_class = evaluator.get_rank_class(p1_score)\n",
    "p2_class = evaluator.get_rank_class(p2_score)\n",
    "\n",
    "# or get a human-friendly string to describe the score\n",
    "print(f\"Player 1 hand rank = {p1_score} {evaluator.class_to_string(p1_class)}\")\n",
    "print(f\"Player 2 hand rank = {p2_score} {evaluator.class_to_string(p2_class)}\")\n",
    "\n",
    "# or just a summary of the entire hand\n",
    "hands = [player1_hand, player2_hand]\n",
    "evaluator.hand_summary(board, hands)\n"
   ]
  },
  {
   "cell_type": "code",
   "execution_count": 37,
   "metadata": {},
   "outputs": [],
   "source": [
    "# create a card\n",
    "card = Card.new('Qh')\n",
    "\n",
    "# create a board and hole cards\n",
    "board = [\n",
    "    Card.new('2h'),\n",
    "    Card.new('2s'),\n",
    "    Card.new('Jc')\n",
    "]\n",
    "hand = [\n",
    "    Card.new('Qs'),\n",
    "    Card.new('Th')\n",
    "]\n",
    "evaluator = Evaluator()\n",
    "\n",
    "# and rank your hand\n",
    "rank = evaluator.evaluate(board, hand)\n",
    "\n"
   ]
  },
  {
   "cell_type": "code",
   "execution_count": null,
   "metadata": {},
   "outputs": [],
   "source": []
  },
  {
   "cell_type": "code",
   "execution_count": 38,
   "metadata": {},
   "outputs": [
    {
     "data": {
      "text/plain": [
       "6066"
      ]
     },
     "execution_count": 38,
     "metadata": {},
     "output_type": "execute_result"
    }
   ],
   "source": [
    "rank"
   ]
  },
  {
   "cell_type": "code",
   "execution_count": 21,
   "metadata": {},
   "outputs": [],
   "source": [
    "deck = Deck()"
   ]
  },
  {
   "cell_type": "code",
   "execution_count": 31,
   "metadata": {},
   "outputs": [],
   "source": [
    "c = Card.new('Qh')"
   ]
  },
  {
   "cell_type": "code",
   "execution_count": 30,
   "metadata": {},
   "outputs": [
    {
     "data": {
      "text/plain": [
       "67119647"
      ]
     },
     "execution_count": 30,
     "metadata": {},
     "output_type": "execute_result"
    }
   ],
   "source": [
    "c."
   ]
  },
  {
   "cell_type": "code",
   "execution_count": 36,
   "metadata": {},
   "outputs": [
    {
     "data": {
      "text/plain": [
       "'Qh'"
      ]
     },
     "execution_count": 36,
     "metadata": {},
     "output_type": "execute_result"
    }
   ],
   "source": [
    "Card.int_to_str(c)"
   ]
  },
  {
   "cell_type": "code",
   "execution_count": 39,
   "metadata": {},
   "outputs": [
    {
     "name": "stdout",
     "output_type": "stream",
     "text": [
      "The board:\n",
      " [T♠],[Q♣],[A♥],[A♠],[6♦] \n",
      "Player 1's cards:\n",
      " [K♣],[J♣] \n",
      "Player 2's cards:\n",
      " [8♦],[T♣] \n",
      "Player 1 hand rank = 1600 Straight\n",
      "Player 2 hand rank = 2502 Two Pair\n",
      "========== FLOP ==========\n",
      "Player 1 hand = Straight, percentage rank among all hands = 0.7855802733851515\n",
      "Player 2 hand = Pair, percentage rank among all hands = 0.4347359957116055\n",
      "Player 1 hand is currently winning.\n",
      "\n",
      "========== TURN ==========\n",
      "Player 1 hand = Straight, percentage rank among all hands = 0.7855802733851515\n",
      "Player 2 hand = Two Pair, percentage rank among all hands = 0.6647011525060306\n",
      "Player 1 hand is currently winning.\n",
      "\n",
      "========== RIVER ==========\n",
      "Player 1 hand = Straight, percentage rank among all hands = 0.7855802733851515\n",
      "Player 2 hand = Two Pair, percentage rank among all hands = 0.6647011525060306\n",
      "\n",
      "========== HAND OVER ==========\n",
      "Player 1 is the winner with a Straight\n",
      "\n"
     ]
    }
   ],
   "source": [
    "deck = Deck()\n",
    "board = deck.draw(5)\n",
    "player1_hand = deck.draw(2)\n",
    "player2_hand = deck.draw(2)\n",
    "\n",
    "print(\"The board:\")\n",
    "Card.print_pretty_cards(board)\n",
    "\n",
    "print(\"Player 1's cards:\")\n",
    "Card.print_pretty_cards(player1_hand)\n",
    "\n",
    "print(\"Player 2's cards:\")\n",
    "Card.print_pretty_cards(player2_hand)\n",
    "\n",
    "p1_score = evaluator.evaluate(board, player1_hand)\n",
    "p2_score = evaluator.evaluate(board, player2_hand)\n",
    "\n",
    "# bin the scores into classes\n",
    "p1_class = evaluator.get_rank_class(p1_score)\n",
    "p2_class = evaluator.get_rank_class(p2_score)\n",
    "\n",
    "# or get a human-friendly string to describe the score\n",
    "print(f\"Player 1 hand rank = {p1_score} {evaluator.class_to_string(p1_class)}\")\n",
    "print(f\"Player 2 hand rank = {p2_score} {evaluator.class_to_string(p2_class)}\")\n",
    "\n",
    "# or just a summary of the entire hand\n",
    "hands = [player1_hand, player2_hand]\n",
    "evaluator.hand_summary(board, hands)"
   ]
  },
  {
   "cell_type": "code",
   "execution_count": 52,
   "metadata": {},
   "outputs": [
    {
     "data": {
      "text/plain": [
       "2502"
      ]
     },
     "execution_count": 52,
     "metadata": {},
     "output_type": "execute_result"
    }
   ],
   "source": [
    "p2_score"
   ]
  },
  {
   "cell_type": "code",
   "execution_count": 46,
   "metadata": {},
   "outputs": [
    {
     "data": {
      "text/plain": [
       "list"
      ]
     },
     "execution_count": 46,
     "metadata": {},
     "output_type": "execute_result"
    }
   ],
   "source": [
    "type(deck.GetFullDeck())"
   ]
  },
  {
   "cell_type": "code",
   "execution_count": 56,
   "metadata": {},
   "outputs": [
    {
     "ename": "TypeError",
     "evalue": "Card.new() takes 1 positional argument but 2 were given",
     "output_type": "error",
     "traceback": [
      "\u001b[0;31m---------------------------------------------------------------------------\u001b[0m",
      "\u001b[0;31mTypeError\u001b[0m                                 Traceback (most recent call last)",
      "Cell \u001b[0;32mIn[56], line 1\u001b[0m\n\u001b[0;32m----> 1\u001b[0m Card\u001b[39m.\u001b[39;49mnew(\u001b[39m'\u001b[39;49m\u001b[39mQh\u001b[39;49m\u001b[39m'\u001b[39;49m,\u001b[39m'\u001b[39;49m\u001b[39mJs\u001b[39;49m\u001b[39m'\u001b[39;49m)\n",
      "\u001b[0;31mTypeError\u001b[0m: Card.new() takes 1 positional argument but 2 were given"
     ]
    }
   ],
   "source": [
    "Card.new('Qh','Js')"
   ]
  },
  {
   "cell_type": "code",
   "execution_count": null,
   "metadata": {},
   "outputs": [],
   "source": []
  }
 ],
 "metadata": {
  "kernelspec": {
   "display_name": "Django Shell-Plus",
   "language": "python",
   "name": "django_extensions"
  },
  "language_info": {
   "codemirror_mode": {
    "name": "ipython",
    "version": 3
   },
   "file_extension": ".py",
   "mimetype": "text/x-python",
   "name": "python",
   "nbconvert_exporter": "python",
   "pygments_lexer": "ipython3",
   "version": "3.10.6"
  },
  "orig_nbformat": 4,
  "vscode": {
   "interpreter": {
    "hash": "8d5f2e31b63b6fc2fd8fbd8a28a0eff7f43f9546a5295d5cecb1c3fdb18fc1ac"
   }
  }
 },
 "nbformat": 4,
 "nbformat_minor": 2
}
