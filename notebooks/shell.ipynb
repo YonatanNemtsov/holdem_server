{
 "cells": [
  {
   "cell_type": "code",
   "execution_count": 1,
   "metadata": {},
   "outputs": [],
   "source": [
    "import django_initializer"
   ]
  },
  {
   "cell_type": "code",
   "execution_count": 2,
   "metadata": {},
   "outputs": [],
   "source": [
    "from game.models import GameLog"
   ]
  },
  {
   "cell_type": "code",
   "execution_count": 3,
   "metadata": {},
   "outputs": [],
   "source": [
    "\n",
    "def play_round():\n",
    "    game_log = GameLog.objects.create()\n",
    "    p1_choice = int(input())\n",
    "    game_log.log.append(p1_choice)\n",
    "    game_log.save()\n",
    "    p2_choice = int(input())\n",
    "    game_log.log.append(p2_choice)\n",
    "    game_log.save()\n",
    "    if (p1_choice+p2_choice) % 2 == 0:\n",
    "        game_log.log.append('p1 wins')\n",
    "        game_log.save()\n",
    "        print(game_log.log[-1])\n",
    "    else:\n",
    "        game_log.log.append('p2 wins')\n",
    "        game_log.save()\n",
    "        print(game_log.log[-1])\n"
   ]
  },
  {
   "cell_type": "code",
   "execution_count": 6,
   "metadata": {},
   "outputs": [
    {
     "name": "stdout",
     "output_type": "stream",
     "text": [
      "p1 wins\n"
     ]
    }
   ],
   "source": [
    "play_round()"
   ]
  },
  {
   "cell_type": "code",
   "execution_count": 3,
   "metadata": {},
   "outputs": [],
   "source": [
    "x = GameLog.objects.get(table='table')"
   ]
  },
  {
   "cell_type": "code",
   "execution_count": 4,
   "metadata": {},
   "outputs": [
    {
     "data": {
      "text/plain": [
       "['user Bob connected.',\n",
       " 'you lose!',\n",
       " 'you lose!',\n",
       " 'you lose!',\n",
       " 'user Bob connected.',\n",
       " 'you won!',\n",
       " 'you lose!',\n",
       " 'you lose!',\n",
       " 'you lose!',\n",
       " 'you lose!',\n",
       " 'you won!',\n",
       " 'you lose!',\n",
       " 'you lose!',\n",
       " 'user Bob connected.',\n",
       " 'user Bob connected.',\n",
       " 'you lose!',\n",
       " 'you lose!',\n",
       " 'you lose!',\n",
       " 'you lose!',\n",
       " 'you lose!',\n",
       " 'user Bob disconnected.',\n",
       " 'user Bob connected.',\n",
       " 'user Bob connected.',\n",
       " 'you lose!',\n",
       " 'you lose!',\n",
       " 'you lose!',\n",
       " 'you lose!',\n",
       " 'you lose!',\n",
       " 'you lose!',\n",
       " 'you won!',\n",
       " 'you lose!',\n",
       " 'you lose!',\n",
       " 'you lose!',\n",
       " 'you lose!',\n",
       " 'you won!',\n",
       " 'you lose!',\n",
       " 'you lose!',\n",
       " 'you lose!',\n",
       " 'you won!',\n",
       " 'you won!',\n",
       " 'you lose!',\n",
       " 'you lose!',\n",
       " 'you won!',\n",
       " 'you won!',\n",
       " 'you lose!',\n",
       " 'you lose!',\n",
       " 'user Bob disconnected.',\n",
       " 'user Bob connected.',\n",
       " 'user Bob disconnected.',\n",
       " 'user Bob connected.']"
      ]
     },
     "execution_count": 4,
     "metadata": {},
     "output_type": "execute_result"
    }
   ],
   "source": [
    "x.log"
   ]
  },
  {
   "cell_type": "code",
   "execution_count": 2,
   "metadata": {},
   "outputs": [],
   "source": [
    "from game.models import GameTable"
   ]
  },
  {
   "cell_type": "code",
   "execution_count": 5,
   "metadata": {},
   "outputs": [],
   "source": [
    "table=GameTable.objects.get(table_name='table')"
   ]
  },
  {
   "cell_type": "code",
   "execution_count": 8,
   "metadata": {},
   "outputs": [
    {
     "data": {
      "text/plain": [
       "{'_state': <django.db.models.base.ModelState at 0x10d1225f0>,\n",
       " 'id': 2,\n",
       " 'table_name': 'table',\n",
       " 'player1_id': 2,\n",
       " 'player2_id': 4,\n",
       " 'to_move': 'p1',\n",
       " 'log': []}"
      ]
     },
     "execution_count": 8,
     "metadata": {},
     "output_type": "execute_result"
    }
   ],
   "source": [
    "table.__dict__"
   ]
  },
  {
   "cell_type": "code",
   "execution_count": 12,
   "metadata": {},
   "outputs": [
    {
     "data": {
      "text/plain": [
       "'John'"
      ]
     },
     "execution_count": 12,
     "metadata": {},
     "output_type": "execute_result"
    }
   ],
   "source": [
    "table.player1.username"
   ]
  },
  {
   "cell_type": "code",
   "execution_count": null,
   "metadata": {},
   "outputs": [],
   "source": []
  }
 ],
 "metadata": {
  "kernelspec": {
   "display_name": "Django Shell-Plus",
   "language": "python",
   "name": "django_extensions"
  },
  "language_info": {
   "codemirror_mode": {
    "name": "ipython",
    "version": 3
   },
   "file_extension": ".py",
   "mimetype": "text/x-python",
   "name": "python",
   "nbconvert_exporter": "python",
   "pygments_lexer": "ipython3",
   "version": "3.10.6"
  },
  "orig_nbformat": 4,
  "vscode": {
   "interpreter": {
    "hash": "8d5f2e31b63b6fc2fd8fbd8a28a0eff7f43f9546a5295d5cecb1c3fdb18fc1ac"
   }
  }
 },
 "nbformat": 4,
 "nbformat_minor": 2
}
