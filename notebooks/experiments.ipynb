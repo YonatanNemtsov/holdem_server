{
 "cells": [
  {
   "cell_type": "code",
   "execution_count": 100,
   "metadata": {},
   "outputs": [],
   "source": [
    "# example data\n",
    "bets = {\n",
    "    1: [\n",
    "    [0,'raise',20],\n",
    "    [1,'call',20],\n",
    "    [2,'raise',40],\n",
    "    [0,'call',40],\n",
    "    ],\n",
    "\n",
    "    2: [\n",
    "    [0, 'raise',30],\n",
    "    [2, 'raise',60],\n",
    "    [0, 'call',60]\n",
    "    \n",
    "    ]\n",
    "}"
   ]
  },
  {
   "cell_type": "code",
   "execution_count": 101,
   "metadata": {},
   "outputs": [],
   "source": [
    "def get_player_total_bet_in_round(round_bets: list, player: int) -> int:\n",
    "        return [player ,max((bet[2] for bet in round_bets if bet[0]==player), default=0)]"
   ]
  },
  {
   "cell_type": "code",
   "execution_count": 102,
   "metadata": {},
   "outputs": [],
   "source": [
    "def get_player_total_bet(bets: dict, player: int) -> int:\n",
    "\n",
    "    return [player,sum((\n",
    "        get_player_total_bet_in_round(bets[round], player)[1]\n",
    "        for round in bets.keys()\n",
    "    ))]"
   ]
  },
  {
   "cell_type": "code",
   "execution_count": 103,
   "metadata": {},
   "outputs": [
    {
     "data": {
      "text/plain": [
       "[2, 100]"
      ]
     },
     "execution_count": 103,
     "metadata": {},
     "output_type": "execute_result"
    }
   ],
   "source": [
    "get_player_total_bet_in_round(bets[2],2)\n",
    "get_player_total_bet(bets,2)"
   ]
  },
  {
   "cell_type": "code",
   "execution_count": 104,
   "metadata": {},
   "outputs": [],
   "source": [
    "def make_pots(bets: list[list], players: list[int]) -> dict:\n",
    "    ordered_total_bets = sorted([get_player_total_bet(bets, p) for p in players], key=lambda x:x[1])\n",
    "    pots = dict()\n",
    "    min = 0\n",
    "    for count,(player,bet) in enumerate(ordered_total_bets):\n",
    "        if bet > min:\n",
    "            pots[bet] = {'pot':(bet-min) * (len(ordered_total_bets) - count),'players':[]}\n",
    "            min = bet\n",
    "        for bet_rank in pots:\n",
    "            pots[bet_rank]['players'].append(player)\n",
    "    return pots"
   ]
  },
  {
   "cell_type": "code",
   "execution_count": 105,
   "metadata": {},
   "outputs": [
    {
     "data": {
      "text/plain": [
       "[2, 100]"
      ]
     },
     "execution_count": 105,
     "metadata": {},
     "output_type": "execute_result"
    }
   ],
   "source": [
    "get_player_total_bet(bets,2)"
   ]
  },
  {
   "cell_type": "code",
   "execution_count": 106,
   "metadata": {},
   "outputs": [
    {
     "data": {
      "text/plain": [
       "{20: {'pot': 60, 'players': [1, 0, 2]}, 100: {'pot': 160, 'players': [0, 2]}}"
      ]
     },
     "execution_count": 106,
     "metadata": {},
     "output_type": "execute_result"
    }
   ],
   "source": [
    "make_pots(bets,[0,1,2])"
   ]
  },
  {
   "cell_type": "code",
   "execution_count": null,
   "metadata": {},
   "outputs": [],
   "source": [
    "def determine_pot_winners(player_sits):\n",
    "    "
   ]
  },
  {
   "cell_type": "code",
   "execution_count": 51,
   "metadata": {},
   "outputs": [],
   "source": [
    "def distribute_pot(pots: dict, pot_winners: list[int]):\n",
    "    \n",
    "    for bet_rank in pots:\n",
    "        winners = [p for p in pot_winners[bet_rank]]"
   ]
  },
  {
   "cell_type": "code",
   "execution_count": 95,
   "metadata": {},
   "outputs": [],
   "source": [
    "a = [1,2]"
   ]
  },
  {
   "cell_type": "code",
   "execution_count": 99,
   "metadata": {},
   "outputs": [
    {
     "data": {
      "text/plain": [
       "[2]"
      ]
     },
     "execution_count": 99,
     "metadata": {},
     "output_type": "execute_result"
    }
   ],
   "source": [
    "a[1:]+a[:0]"
   ]
  },
  {
   "cell_type": "code",
   "execution_count": 109,
   "metadata": {},
   "outputs": [],
   "source": [
    "a = {1:2,2:2,3:0}"
   ]
  },
  {
   "cell_type": "code",
   "execution_count": 110,
   "metadata": {},
   "outputs": [
    {
     "data": {
      "text/plain": [
       "1"
      ]
     },
     "execution_count": 110,
     "metadata": {},
     "output_type": "execute_result"
    }
   ],
   "source": [
    "max(a,key=lambda x:a[x])"
   ]
  },
  {
   "cell_type": "code",
   "execution_count": 2,
   "metadata": {},
   "outputs": [
    {
     "ename": "SyntaxError",
     "evalue": "invalid syntax (4013237356.py, line 1)",
     "output_type": "error",
     "traceback": [
      "\u001b[0;36m  Cell \u001b[0;32mIn[2], line 1\u001b[0;36m\u001b[0m\n\u001b[0;31m    import ..deuces\u001b[0m\n\u001b[0m           ^\u001b[0m\n\u001b[0;31mSyntaxError\u001b[0m\u001b[0;31m:\u001b[0m invalid syntax\n"
     ]
    }
   ],
   "source": []
  },
  {
   "cell_type": "code",
   "execution_count": 1,
   "metadata": {},
   "outputs": [
    {
     "ename": "ModuleNotFoundError",
     "evalue": "No module named 'deuces'",
     "output_type": "error",
     "traceback": [
      "\u001b[0;31m---------------------------------------------------------------------------\u001b[0m",
      "\u001b[0;31mModuleNotFoundError\u001b[0m                       Traceback (most recent call last)",
      "Cell \u001b[0;32mIn[1], line 1\u001b[0m\n\u001b[0;32m----> 1\u001b[0m \u001b[39mfrom\u001b[39;00m \u001b[39mdeuces\u001b[39;00m\u001b[39m.\u001b[39;00m\u001b[39mdeuces\u001b[39;00m \u001b[39mimport\u001b[39;00m Card, Evaluator, Deck\n\u001b[1;32m      3\u001b[0m \u001b[39m# create a card\u001b[39;00m\n\u001b[1;32m      4\u001b[0m card \u001b[39m=\u001b[39m Card\u001b[39m.\u001b[39mnew(\u001b[39m'\u001b[39m\u001b[39mQh\u001b[39m\u001b[39m'\u001b[39m)\n",
      "\u001b[0;31mModuleNotFoundError\u001b[0m: No module named 'deuces'"
     ]
    }
   ],
   "source": [
    "from deuces.deuces import Card, Evaluator, Deck\n",
    "\n",
    "# create a card\n",
    "card = Card.new('Qh')\n",
    "\n",
    "# create a board and hole cards\n",
    "board = [\n",
    "    Card.new('2h'),\n",
    "    Card.new('2s'),\n",
    "    Card.new('Jc')\n",
    "]\n",
    "hand = [\n",
    "    Card.new('Qs'),\n",
    "    Card.new('Th')\n",
    "]\n",
    "\n",
    "# pretty print cards to console\n",
    "Card.print_pretty_cards(board + hand)\n",
    "\n",
    "# create an evaluator\n",
    "evaluator = Evaluator()\n",
    "\n",
    "# and rank your hand\n",
    "rank = evaluator.evaluate(board, hand)\n",
    "print()\n",
    "# or for random cards or games, create a deck\n",
    "print(\"Dealing a new hand...\")\n",
    "deck = Deck()\n",
    "board = deck.draw(5)\n",
    "player1_hand = deck.draw(2)\n",
    "player2_hand = deck.draw(2)\n",
    "\n",
    "print(\"The board:\")\n",
    "Card.print_pretty_cards(board)\n",
    "\n",
    "print(\"Player 1's cards:\")\n",
    "Card.print_pretty_cards(player1_hand)\n",
    "\n",
    "print(\"Player 2's cards:\")\n",
    "Card.print_pretty_cards(player2_hand)\n",
    "\n",
    "p1_score = evaluator.evaluate(board, player1_hand)\n",
    "p2_score = evaluator.evaluate(board, player2_hand)\n",
    "\n",
    "# bin the scores into classes\n",
    "p1_class = evaluator.get_rank_class(p1_score)\n",
    "p2_class = evaluator.get_rank_class(p2_score)\n",
    "\n",
    "# or get a human-friendly string to describe the score\n",
    "print(f\"Player 1 hand rank = {p1_score} {evaluator.class_to_string(p1_class)}\")\n",
    "print(f\"Player 2 hand rank = {p2_score} {evaluator.class_to_string(p2_class)}\")\n",
    "\n",
    "# or just a summary of the entire hand\n",
    "hands = [player1_hand, player2_hand]\n",
    "evaluator.hand_summary(board, hands)\n"
   ]
  },
  {
   "cell_type": "code",
   "execution_count": 8,
   "metadata": {},
   "outputs": [
    {
     "ename": "ImportError",
     "evalue": "attempted relative import with no known parent package",
     "output_type": "error",
     "traceback": [
      "\u001b[0;31m---------------------------------------------------------------------------\u001b[0m",
      "\u001b[0;31mImportError\u001b[0m                               Traceback (most recent call last)",
      "Cell \u001b[0;32mIn[8], line 1\u001b[0m\n\u001b[0;32m----> 1\u001b[0m \u001b[39mfrom\u001b[39;00m \u001b[39m.\u001b[39;00m\u001b[39m.\u001b[39;00m\u001b[39mdeuces\u001b[39;00m\u001b[39m.\u001b[39;00m\u001b[39mdeuces\u001b[39;00m \u001b[39mimport\u001b[39;00m Card, Evaluator, Deck\n\u001b[1;32m      3\u001b[0m \u001b[39m# create a card\u001b[39;00m\n\u001b[1;32m      4\u001b[0m card \u001b[39m=\u001b[39m Card\u001b[39m.\u001b[39mnew(\u001b[39m'\u001b[39m\u001b[39mQh\u001b[39m\u001b[39m'\u001b[39m)\n",
      "\u001b[0;31mImportError\u001b[0m: attempted relative import with no known parent package"
     ]
    }
   ],
   "source": [
    "from ..deuces.deuces import Card, Evaluator, Deck\n",
    "\n",
    "# create a card\n",
    "card = Card.new('Qh')\n",
    "\n",
    "# create a board and hole cards\n",
    "board = [\n",
    "    Card.new('2h'),\n",
    "    Card.new('2s'),\n",
    "    Card.new('Jc')\n",
    "]\n",
    "hand = [\n",
    "    Card.new('Qs'),\n",
    "    Card.new('Th')\n",
    "]\n"
   ]
  },
  {
   "cell_type": "code",
   "execution_count": null,
   "metadata": {},
   "outputs": [],
   "source": [
    "class CardDeck():\n",
    "    "
   ]
  },
  {
   "cell_type": "code",
   "execution_count": 14,
   "metadata": {},
   "outputs": [],
   "source": [
    "import itertools\n",
    "from random import shuffle\n",
    "def create_deck():\n",
    "    suites = ['h','d','c','s']\n",
    "    ranks = ['2','3','4','5','6','7','8','9','10','J','Q','K','A']\n",
    "    shuffle(deck:=list(p[0]+p[1] for p in itertools.product(ranks,suites)))\n",
    "    return deck"
   ]
  },
  {
   "cell_type": "code",
   "execution_count": 21,
   "metadata": {},
   "outputs": [
    {
     "data": {
      "text/plain": [
       "['4c',\n",
       " '6d',\n",
       " '10d',\n",
       " '10c',\n",
       " 'Jc',\n",
       " '8h',\n",
       " '4s',\n",
       " '10h',\n",
       " '5h',\n",
       " '3h',\n",
       " '9c',\n",
       " 'Ks',\n",
       " 'Kd',\n",
       " '5d',\n",
       " '8c',\n",
       " '2s',\n",
       " '3s',\n",
       " '2c',\n",
       " '8d',\n",
       " '7d',\n",
       " '10s',\n",
       " '7s',\n",
       " '5c',\n",
       " 'Ad',\n",
       " 'Qh',\n",
       " '9h',\n",
       " '7h',\n",
       " '2h',\n",
       " '2d',\n",
       " '4h',\n",
       " '7c',\n",
       " 'Qc',\n",
       " '4d',\n",
       " 'Qs',\n",
       " '6h',\n",
       " '9s',\n",
       " '3c',\n",
       " 'Kh',\n",
       " '9d',\n",
       " 'Kc',\n",
       " 'As',\n",
       " 'Js',\n",
       " '8s',\n",
       " '3d',\n",
       " 'Ac',\n",
       " 'Ah',\n",
       " '6c',\n",
       " '5s',\n",
       " 'Qd',\n",
       " 'Jh',\n",
       " 'Jd',\n",
       " '6s']"
      ]
     },
     "execution_count": 21,
     "metadata": {},
     "output_type": "execute_result"
    }
   ],
   "source": [
    "create_deck()"
   ]
  },
  {
   "cell_type": "code",
   "execution_count": null,
   "metadata": {},
   "outputs": [],
   "source": []
  }
 ],
 "metadata": {
  "kernelspec": {
   "display_name": "venv",
   "language": "python",
   "name": "python3"
  },
  "language_info": {
   "codemirror_mode": {
    "name": "ipython",
    "version": 3
   },
   "file_extension": ".py",
   "mimetype": "text/x-python",
   "name": "python",
   "nbconvert_exporter": "python",
   "pygments_lexer": "ipython3",
   "version": "3.10.6"
  },
  "orig_nbformat": 4,
  "vscode": {
   "interpreter": {
    "hash": "8d5f2e31b63b6fc2fd8fbd8a28a0eff7f43f9546a5295d5cecb1c3fdb18fc1ac"
   }
  }
 },
 "nbformat": 4,
 "nbformat_minor": 2
}
